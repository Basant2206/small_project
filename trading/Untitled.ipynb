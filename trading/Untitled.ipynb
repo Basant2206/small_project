{
 "cells": [
  {
   "cell_type": "code",
   "execution_count": 1,
   "id": "129bf346-fb03-4307-80a5-058521a7163d",
   "metadata": {},
   "outputs": [
    {
     "name": "stderr",
     "output_type": "stream",
     "text": [
      "Failed to get ticker '^NSEI' reason: Expecting value: line 1 column 1 (char 0)\n",
      "$^NSEI: possibly delisted; no price data found  (period=1d)\n"
     ]
    },
    {
     "name": "stdout",
     "output_type": "stream",
     "text": [
      "Nifty 50 Index Data:\n",
      "Empty DataFrame\n",
      "Columns: [Open, High, Low, Close, Adj Close, Volume]\n",
      "Index: []\n",
      "\n",
      "Individual Company Data:\n"
     ]
    },
    {
     "name": "stderr",
     "output_type": "stream",
     "text": [
      "Failed to get ticker 'RELIANCE.NS' reason: Expecting value: line 1 column 1 (char 0)\n",
      "$RELIANCE.NS: possibly delisted; no price data found  (period=1d)\n"
     ]
    },
    {
     "name": "stdout",
     "output_type": "stream",
     "text": [
      "\n",
      "RELIANCE.NS Data:\n",
      "Empty DataFrame\n",
      "Columns: [Open, High, Low, Close, Adj Close, Volume]\n",
      "Index: []\n"
     ]
    },
    {
     "name": "stderr",
     "output_type": "stream",
     "text": [
      "Failed to get ticker 'TCS.NS' reason: Expecting value: line 1 column 1 (char 0)\n",
      "$TCS.NS: possibly delisted; no price data found  (period=1d)\n"
     ]
    },
    {
     "name": "stdout",
     "output_type": "stream",
     "text": [
      "\n",
      "TCS.NS Data:\n",
      "Empty DataFrame\n",
      "Columns: [Open, High, Low, Close, Adj Close, Volume]\n",
      "Index: []\n"
     ]
    },
    {
     "name": "stderr",
     "output_type": "stream",
     "text": [
      "Failed to get ticker 'HDFCBANK.NS' reason: Expecting value: line 1 column 1 (char 0)\n",
      "$HDFCBANK.NS: possibly delisted; no price data found  (period=1d)\n"
     ]
    },
    {
     "name": "stdout",
     "output_type": "stream",
     "text": [
      "\n",
      "HDFCBANK.NS Data:\n",
      "Empty DataFrame\n",
      "Columns: [Open, High, Low, Close, Adj Close, Volume]\n",
      "Index: []\n"
     ]
    },
    {
     "name": "stderr",
     "output_type": "stream",
     "text": [
      "Failed to get ticker 'ICICIBANK.NS' reason: Expecting value: line 1 column 1 (char 0)\n",
      "$ICICIBANK.NS: possibly delisted; no price data found  (period=1d)\n"
     ]
    },
    {
     "name": "stdout",
     "output_type": "stream",
     "text": [
      "\n",
      "ICICIBANK.NS Data:\n",
      "Empty DataFrame\n",
      "Columns: [Open, High, Low, Close, Adj Close, Volume]\n",
      "Index: []\n"
     ]
    },
    {
     "name": "stderr",
     "output_type": "stream",
     "text": [
      "Failed to get ticker 'INFY.NS' reason: Expecting value: line 1 column 1 (char 0)\n",
      "$INFY.NS: possibly delisted; no price data found  (period=1d)\n"
     ]
    },
    {
     "name": "stdout",
     "output_type": "stream",
     "text": [
      "\n",
      "INFY.NS Data:\n",
      "Empty DataFrame\n",
      "Columns: [Open, High, Low, Close, Adj Close, Volume]\n",
      "Index: []\n"
     ]
    },
    {
     "name": "stderr",
     "output_type": "stream",
     "text": [
      "Failed to get ticker 'HINDUNILVR.NS' reason: Expecting value: line 1 column 1 (char 0)\n",
      "$HINDUNILVR.NS: possibly delisted; no price data found  (period=1d)\n"
     ]
    },
    {
     "name": "stdout",
     "output_type": "stream",
     "text": [
      "\n",
      "HINDUNILVR.NS Data:\n",
      "Empty DataFrame\n",
      "Columns: [Open, High, Low, Close, Adj Close, Volume]\n",
      "Index: []\n"
     ]
    },
    {
     "name": "stderr",
     "output_type": "stream",
     "text": [
      "Failed to get ticker 'ITC.NS' reason: Expecting value: line 1 column 1 (char 0)\n",
      "$ITC.NS: possibly delisted; no price data found  (period=1d)\n"
     ]
    },
    {
     "name": "stdout",
     "output_type": "stream",
     "text": [
      "\n",
      "ITC.NS Data:\n",
      "Empty DataFrame\n",
      "Columns: [Open, High, Low, Close, Adj Close, Volume]\n",
      "Index: []\n"
     ]
    },
    {
     "name": "stderr",
     "output_type": "stream",
     "text": [
      "Failed to get ticker 'KOTAKBANK.NS' reason: Expecting value: line 1 column 1 (char 0)\n",
      "$KOTAKBANK.NS: possibly delisted; no price data found  (period=1d)\n"
     ]
    },
    {
     "name": "stdout",
     "output_type": "stream",
     "text": [
      "\n",
      "KOTAKBANK.NS Data:\n",
      "Empty DataFrame\n",
      "Columns: [Open, High, Low, Close, Adj Close, Volume]\n",
      "Index: []\n"
     ]
    },
    {
     "name": "stderr",
     "output_type": "stream",
     "text": [
      "Failed to get ticker 'HDFC.NS' reason: Expecting value: line 1 column 1 (char 0)\n",
      "$HDFC.NS: possibly delisted; no price data found  (period=1d)\n"
     ]
    },
    {
     "name": "stdout",
     "output_type": "stream",
     "text": [
      "\n",
      "HDFC.NS Data:\n",
      "Empty DataFrame\n",
      "Columns: [Open, High, Low, Close, Adj Close, Volume]\n",
      "Index: []\n"
     ]
    },
    {
     "name": "stderr",
     "output_type": "stream",
     "text": [
      "Failed to get ticker 'SBIN.NS' reason: Expecting value: line 1 column 1 (char 0)\n",
      "$SBIN.NS: possibly delisted; no price data found  (period=1d)\n"
     ]
    },
    {
     "name": "stdout",
     "output_type": "stream",
     "text": [
      "\n",
      "SBIN.NS Data:\n",
      "Empty DataFrame\n",
      "Columns: [Open, High, Low, Close, Adj Close, Volume]\n",
      "Index: []\n"
     ]
    },
    {
     "name": "stderr",
     "output_type": "stream",
     "text": [
      "Failed to get ticker 'BHARTIARTL.NS' reason: Expecting value: line 1 column 1 (char 0)\n",
      "$BHARTIARTL.NS: possibly delisted; no price data found  (period=1d)\n"
     ]
    },
    {
     "name": "stdout",
     "output_type": "stream",
     "text": [
      "\n",
      "BHARTIARTL.NS Data:\n",
      "Empty DataFrame\n",
      "Columns: [Open, High, Low, Close, Adj Close, Volume]\n",
      "Index: []\n"
     ]
    },
    {
     "name": "stderr",
     "output_type": "stream",
     "text": [
      "Failed to get ticker 'LT.NS' reason: Expecting value: line 1 column 1 (char 0)\n",
      "$LT.NS: possibly delisted; no price data found  (period=1d)\n"
     ]
    },
    {
     "name": "stdout",
     "output_type": "stream",
     "text": [
      "\n",
      "LT.NS Data:\n",
      "Empty DataFrame\n",
      "Columns: [Open, High, Low, Close, Adj Close, Volume]\n",
      "Index: []\n"
     ]
    },
    {
     "name": "stderr",
     "output_type": "stream",
     "text": [
      "Failed to get ticker 'BAJFINANCE.NS' reason: Expecting value: line 1 column 1 (char 0)\n",
      "$BAJFINANCE.NS: possibly delisted; no price data found  (period=1d)\n"
     ]
    },
    {
     "name": "stdout",
     "output_type": "stream",
     "text": [
      "\n",
      "BAJFINANCE.NS Data:\n",
      "Empty DataFrame\n",
      "Columns: [Open, High, Low, Close, Adj Close, Volume]\n",
      "Index: []\n"
     ]
    },
    {
     "name": "stderr",
     "output_type": "stream",
     "text": [
      "Failed to get ticker 'ASIANPAINT.NS' reason: Expecting value: line 1 column 1 (char 0)\n",
      "$ASIANPAINT.NS: possibly delisted; no price data found  (period=1d)\n"
     ]
    },
    {
     "name": "stdout",
     "output_type": "stream",
     "text": [
      "\n",
      "ASIANPAINT.NS Data:\n",
      "Empty DataFrame\n",
      "Columns: [Open, High, Low, Close, Adj Close, Volume]\n",
      "Index: []\n"
     ]
    },
    {
     "name": "stderr",
     "output_type": "stream",
     "text": [
      "Failed to get ticker 'HCLTECH.NS' reason: Expecting value: line 1 column 1 (char 0)\n",
      "$HCLTECH.NS: possibly delisted; no price data found  (period=1d)\n"
     ]
    },
    {
     "name": "stdout",
     "output_type": "stream",
     "text": [
      "\n",
      "HCLTECH.NS Data:\n",
      "Empty DataFrame\n",
      "Columns: [Open, High, Low, Close, Adj Close, Volume]\n",
      "Index: []\n"
     ]
    },
    {
     "name": "stderr",
     "output_type": "stream",
     "text": [
      "Failed to get ticker 'MARUTI.NS' reason: Expecting value: line 1 column 1 (char 0)\n",
      "$MARUTI.NS: possibly delisted; no price data found  (period=1d)\n"
     ]
    },
    {
     "name": "stdout",
     "output_type": "stream",
     "text": [
      "\n",
      "MARUTI.NS Data:\n",
      "Empty DataFrame\n",
      "Columns: [Open, High, Low, Close, Adj Close, Volume]\n",
      "Index: []\n"
     ]
    },
    {
     "name": "stderr",
     "output_type": "stream",
     "text": [
      "Failed to get ticker 'TITAN.NS' reason: Expecting value: line 1 column 1 (char 0)\n",
      "$TITAN.NS: possibly delisted; no price data found  (period=1d)\n"
     ]
    },
    {
     "name": "stdout",
     "output_type": "stream",
     "text": [
      "\n",
      "TITAN.NS Data:\n",
      "Empty DataFrame\n",
      "Columns: [Open, High, Low, Close, Adj Close, Volume]\n",
      "Index: []\n"
     ]
    },
    {
     "name": "stderr",
     "output_type": "stream",
     "text": [
      "Failed to get ticker 'AXISBANK.NS' reason: Expecting value: line 1 column 1 (char 0)\n",
      "$AXISBANK.NS: possibly delisted; no price data found  (period=1d)\n"
     ]
    },
    {
     "name": "stdout",
     "output_type": "stream",
     "text": [
      "\n",
      "AXISBANK.NS Data:\n",
      "Empty DataFrame\n",
      "Columns: [Open, High, Low, Close, Adj Close, Volume]\n",
      "Index: []\n"
     ]
    },
    {
     "name": "stderr",
     "output_type": "stream",
     "text": [
      "Failed to get ticker 'SUNPHARMA.NS' reason: Expecting value: line 1 column 1 (char 0)\n",
      "$SUNPHARMA.NS: possibly delisted; no price data found  (period=1d)\n"
     ]
    },
    {
     "name": "stdout",
     "output_type": "stream",
     "text": [
      "\n",
      "SUNPHARMA.NS Data:\n",
      "Empty DataFrame\n",
      "Columns: [Open, High, Low, Close, Adj Close, Volume]\n",
      "Index: []\n"
     ]
    },
    {
     "name": "stderr",
     "output_type": "stream",
     "text": [
      "Failed to get ticker 'NTPC.NS' reason: Expecting value: line 1 column 1 (char 0)\n",
      "$NTPC.NS: possibly delisted; no price data found  (period=1d)\n"
     ]
    },
    {
     "name": "stdout",
     "output_type": "stream",
     "text": [
      "\n",
      "NTPC.NS Data:\n",
      "Empty DataFrame\n",
      "Columns: [Open, High, Low, Close, Adj Close, Volume]\n",
      "Index: []\n"
     ]
    },
    {
     "name": "stderr",
     "output_type": "stream",
     "text": [
      "Failed to get ticker 'ONGC.NS' reason: Expecting value: line 1 column 1 (char 0)\n",
      "$ONGC.NS: possibly delisted; no price data found  (period=1d)\n"
     ]
    },
    {
     "name": "stdout",
     "output_type": "stream",
     "text": [
      "\n",
      "ONGC.NS Data:\n",
      "Empty DataFrame\n",
      "Columns: [Open, High, Low, Close, Adj Close, Volume]\n",
      "Index: []\n"
     ]
    },
    {
     "name": "stderr",
     "output_type": "stream",
     "text": [
      "Failed to get ticker 'NESTLEIND.NS' reason: Expecting value: line 1 column 1 (char 0)\n",
      "$NESTLEIND.NS: possibly delisted; no price data found  (period=1d)\n"
     ]
    },
    {
     "name": "stdout",
     "output_type": "stream",
     "text": [
      "\n",
      "NESTLEIND.NS Data:\n",
      "Empty DataFrame\n",
      "Columns: [Open, High, Low, Close, Adj Close, Volume]\n",
      "Index: []\n"
     ]
    },
    {
     "name": "stderr",
     "output_type": "stream",
     "text": [
      "Failed to get ticker 'ULTRACEMCO.NS' reason: Expecting value: line 1 column 1 (char 0)\n",
      "$ULTRACEMCO.NS: possibly delisted; no price data found  (period=1d)\n"
     ]
    },
    {
     "name": "stdout",
     "output_type": "stream",
     "text": [
      "\n",
      "ULTRACEMCO.NS Data:\n",
      "Empty DataFrame\n",
      "Columns: [Open, High, Low, Close, Adj Close, Volume]\n",
      "Index: []\n"
     ]
    },
    {
     "name": "stderr",
     "output_type": "stream",
     "text": [
      "Failed to get ticker 'WIPRO.NS' reason: Expecting value: line 1 column 1 (char 0)\n",
      "$WIPRO.NS: possibly delisted; no price data found  (period=1d)\n"
     ]
    },
    {
     "name": "stdout",
     "output_type": "stream",
     "text": [
      "\n",
      "WIPRO.NS Data:\n",
      "Empty DataFrame\n",
      "Columns: [Open, High, Low, Close, Adj Close, Volume]\n",
      "Index: []\n"
     ]
    },
    {
     "name": "stderr",
     "output_type": "stream",
     "text": [
      "Failed to get ticker 'ADANIPORTS.NS' reason: Expecting value: line 1 column 1 (char 0)\n",
      "$ADANIPORTS.NS: possibly delisted; no price data found  (period=1d)\n"
     ]
    },
    {
     "name": "stdout",
     "output_type": "stream",
     "text": [
      "\n",
      "ADANIPORTS.NS Data:\n",
      "Empty DataFrame\n",
      "Columns: [Open, High, Low, Close, Adj Close, Volume]\n",
      "Index: []\n"
     ]
    },
    {
     "name": "stderr",
     "output_type": "stream",
     "text": [
      "Failed to get ticker 'POWERGRID.NS' reason: Expecting value: line 1 column 1 (char 0)\n",
      "$POWERGRID.NS: possibly delisted; no price data found  (period=1d)\n"
     ]
    },
    {
     "name": "stdout",
     "output_type": "stream",
     "text": [
      "\n",
      "POWERGRID.NS Data:\n",
      "Empty DataFrame\n",
      "Columns: [Open, High, Low, Close, Adj Close, Volume]\n",
      "Index: []\n"
     ]
    },
    {
     "name": "stderr",
     "output_type": "stream",
     "text": [
      "Failed to get ticker 'M&M.NS' reason: Expecting value: line 1 column 1 (char 0)\n",
      "$M&M.NS: possibly delisted; no price data found  (period=1d)\n"
     ]
    },
    {
     "name": "stdout",
     "output_type": "stream",
     "text": [
      "\n",
      "M&M.NS Data:\n",
      "Empty DataFrame\n",
      "Columns: [Open, High, Low, Close, Adj Close, Volume]\n",
      "Index: []\n"
     ]
    },
    {
     "name": "stderr",
     "output_type": "stream",
     "text": [
      "Failed to get ticker 'BAJAJ-AUTO.NS' reason: Expecting value: line 1 column 1 (char 0)\n",
      "$BAJAJ-AUTO.NS: possibly delisted; no price data found  (period=1d)\n"
     ]
    },
    {
     "name": "stdout",
     "output_type": "stream",
     "text": [
      "\n",
      "BAJAJ-AUTO.NS Data:\n",
      "Empty DataFrame\n",
      "Columns: [Open, High, Low, Close, Adj Close, Volume]\n",
      "Index: []\n"
     ]
    },
    {
     "name": "stderr",
     "output_type": "stream",
     "text": [
      "Failed to get ticker 'GRASIM.NS' reason: Expecting value: line 1 column 1 (char 0)\n",
      "$GRASIM.NS: possibly delisted; no price data found  (period=1d)\n"
     ]
    },
    {
     "name": "stdout",
     "output_type": "stream",
     "text": [
      "\n",
      "GRASIM.NS Data:\n",
      "Empty DataFrame\n",
      "Columns: [Open, High, Low, Close, Adj Close, Volume]\n",
      "Index: []\n"
     ]
    },
    {
     "name": "stderr",
     "output_type": "stream",
     "text": [
      "Failed to get ticker 'TECHM.NS' reason: Expecting value: line 1 column 1 (char 0)\n",
      "$TECHM.NS: possibly delisted; no price data found  (period=1d)\n"
     ]
    },
    {
     "name": "stdout",
     "output_type": "stream",
     "text": [
      "\n",
      "TECHM.NS Data:\n",
      "Empty DataFrame\n",
      "Columns: [Open, High, Low, Close, Adj Close, Volume]\n",
      "Index: []\n"
     ]
    },
    {
     "name": "stderr",
     "output_type": "stream",
     "text": [
      "Failed to get ticker 'JSWSTEEL.NS' reason: Expecting value: line 1 column 1 (char 0)\n",
      "$JSWSTEEL.NS: possibly delisted; no price data found  (period=1d)\n"
     ]
    },
    {
     "name": "stdout",
     "output_type": "stream",
     "text": [
      "\n",
      "JSWSTEEL.NS Data:\n",
      "Empty DataFrame\n",
      "Columns: [Open, High, Low, Close, Adj Close, Volume]\n",
      "Index: []\n"
     ]
    },
    {
     "name": "stderr",
     "output_type": "stream",
     "text": [
      "Failed to get ticker 'TATASTEEL.NS' reason: Expecting value: line 1 column 1 (char 0)\n",
      "$TATASTEEL.NS: possibly delisted; no price data found  (period=1d)\n"
     ]
    },
    {
     "name": "stdout",
     "output_type": "stream",
     "text": [
      "\n",
      "TATASTEEL.NS Data:\n",
      "Empty DataFrame\n",
      "Columns: [Open, High, Low, Close, Adj Close, Volume]\n",
      "Index: []\n"
     ]
    },
    {
     "name": "stderr",
     "output_type": "stream",
     "text": [
      "Failed to get ticker 'DRREDDY.NS' reason: Expecting value: line 1 column 1 (char 0)\n",
      "$DRREDDY.NS: possibly delisted; no price data found  (period=1d)\n"
     ]
    },
    {
     "name": "stdout",
     "output_type": "stream",
     "text": [
      "\n",
      "DRREDDY.NS Data:\n",
      "Empty DataFrame\n",
      "Columns: [Open, High, Low, Close, Adj Close, Volume]\n",
      "Index: []\n"
     ]
    },
    {
     "name": "stderr",
     "output_type": "stream",
     "text": [
      "Failed to get ticker 'BRITANNIA.NS' reason: Expecting value: line 1 column 1 (char 0)\n",
      "$BRITANNIA.NS: possibly delisted; no price data found  (period=1d)\n"
     ]
    },
    {
     "name": "stdout",
     "output_type": "stream",
     "text": [
      "\n",
      "BRITANNIA.NS Data:\n",
      "Empty DataFrame\n",
      "Columns: [Open, High, Low, Close, Adj Close, Volume]\n",
      "Index: []\n"
     ]
    },
    {
     "name": "stderr",
     "output_type": "stream",
     "text": [
      "Failed to get ticker 'EICHERMOT.NS' reason: Expecting value: line 1 column 1 (char 0)\n",
      "$EICHERMOT.NS: possibly delisted; no price data found  (period=1d)\n"
     ]
    },
    {
     "name": "stdout",
     "output_type": "stream",
     "text": [
      "\n",
      "EICHERMOT.NS Data:\n",
      "Empty DataFrame\n",
      "Columns: [Open, High, Low, Close, Adj Close, Volume]\n",
      "Index: []\n"
     ]
    },
    {
     "name": "stderr",
     "output_type": "stream",
     "text": [
      "Failed to get ticker 'SHREECEM.NS' reason: Expecting value: line 1 column 1 (char 0)\n",
      "$SHREECEM.NS: possibly delisted; no price data found  (period=1d)\n"
     ]
    },
    {
     "name": "stdout",
     "output_type": "stream",
     "text": [
      "\n",
      "SHREECEM.NS Data:\n",
      "Empty DataFrame\n",
      "Columns: [Open, High, Low, Close, Adj Close, Volume]\n",
      "Index: []\n"
     ]
    },
    {
     "name": "stderr",
     "output_type": "stream",
     "text": [
      "Failed to get ticker 'INDUSINDBK.NS' reason: Expecting value: line 1 column 1 (char 0)\n",
      "$INDUSINDBK.NS: possibly delisted; no price data found  (period=1d)\n"
     ]
    },
    {
     "name": "stdout",
     "output_type": "stream",
     "text": [
      "\n",
      "INDUSINDBK.NS Data:\n",
      "Empty DataFrame\n",
      "Columns: [Open, High, Low, Close, Adj Close, Volume]\n",
      "Index: []\n"
     ]
    },
    {
     "name": "stderr",
     "output_type": "stream",
     "text": [
      "Failed to get ticker 'DIVISLAB.NS' reason: Expecting value: line 1 column 1 (char 0)\n",
      "$DIVISLAB.NS: possibly delisted; no price data found  (period=1d)\n"
     ]
    },
    {
     "name": "stdout",
     "output_type": "stream",
     "text": [
      "\n",
      "DIVISLAB.NS Data:\n",
      "Empty DataFrame\n",
      "Columns: [Open, High, Low, Close, Adj Close, Volume]\n",
      "Index: []\n"
     ]
    },
    {
     "name": "stderr",
     "output_type": "stream",
     "text": [
      "Failed to get ticker 'COALINDIA.NS' reason: Expecting value: line 1 column 1 (char 0)\n",
      "$COALINDIA.NS: possibly delisted; no price data found  (period=1d)\n"
     ]
    },
    {
     "name": "stdout",
     "output_type": "stream",
     "text": [
      "\n",
      "COALINDIA.NS Data:\n",
      "Empty DataFrame\n",
      "Columns: [Open, High, Low, Close, Adj Close, Volume]\n",
      "Index: []\n"
     ]
    },
    {
     "name": "stderr",
     "output_type": "stream",
     "text": [
      "Failed to get ticker 'UPL.NS' reason: Expecting value: line 1 column 1 (char 0)\n",
      "$UPL.NS: possibly delisted; no price data found  (period=1d)\n"
     ]
    },
    {
     "name": "stdout",
     "output_type": "stream",
     "text": [
      "\n",
      "UPL.NS Data:\n",
      "Empty DataFrame\n",
      "Columns: [Open, High, Low, Close, Adj Close, Volume]\n",
      "Index: []\n"
     ]
    },
    {
     "name": "stderr",
     "output_type": "stream",
     "text": [
      "Failed to get ticker 'BPCL.NS' reason: Expecting value: line 1 column 1 (char 0)\n",
      "$BPCL.NS: possibly delisted; no price data found  (period=1d)\n"
     ]
    },
    {
     "name": "stdout",
     "output_type": "stream",
     "text": [
      "\n",
      "BPCL.NS Data:\n",
      "Empty DataFrame\n",
      "Columns: [Open, High, Low, Close, Adj Close, Volume]\n",
      "Index: []\n"
     ]
    },
    {
     "name": "stderr",
     "output_type": "stream",
     "text": [
      "Failed to get ticker 'IOC.NS' reason: Expecting value: line 1 column 1 (char 0)\n",
      "$IOC.NS: possibly delisted; no price data found  (period=1d)\n"
     ]
    },
    {
     "name": "stdout",
     "output_type": "stream",
     "text": [
      "\n",
      "IOC.NS Data:\n",
      "Empty DataFrame\n",
      "Columns: [Open, High, Low, Close, Adj Close, Volume]\n",
      "Index: []\n"
     ]
    },
    {
     "name": "stderr",
     "output_type": "stream",
     "text": [
      "Failed to get ticker 'CIPLA.NS' reason: Expecting value: line 1 column 1 (char 0)\n",
      "$CIPLA.NS: possibly delisted; no price data found  (period=1d)\n"
     ]
    },
    {
     "name": "stdout",
     "output_type": "stream",
     "text": [
      "\n",
      "CIPLA.NS Data:\n",
      "Empty DataFrame\n",
      "Columns: [Open, High, Low, Close, Adj Close, Volume]\n",
      "Index: []\n"
     ]
    },
    {
     "name": "stderr",
     "output_type": "stream",
     "text": [
      "Failed to get ticker 'HEROMOTOCO.NS' reason: Expecting value: line 1 column 1 (char 0)\n",
      "$HEROMOTOCO.NS: possibly delisted; no price data found  (period=1d)\n"
     ]
    },
    {
     "name": "stdout",
     "output_type": "stream",
     "text": [
      "\n",
      "HEROMOTOCO.NS Data:\n",
      "Empty DataFrame\n",
      "Columns: [Open, High, Low, Close, Adj Close, Volume]\n",
      "Index: []\n"
     ]
    },
    {
     "name": "stderr",
     "output_type": "stream",
     "text": [
      "Failed to get ticker 'GAIL.NS' reason: Expecting value: line 1 column 1 (char 0)\n",
      "$GAIL.NS: possibly delisted; no price data found  (period=1d)\n"
     ]
    },
    {
     "name": "stdout",
     "output_type": "stream",
     "text": [
      "\n",
      "GAIL.NS Data:\n",
      "Empty DataFrame\n",
      "Columns: [Open, High, Low, Close, Adj Close, Volume]\n",
      "Index: []\n"
     ]
    },
    {
     "name": "stderr",
     "output_type": "stream",
     "text": [
      "Failed to get ticker 'SBILIFE.NS' reason: Expecting value: line 1 column 1 (char 0)\n",
      "$SBILIFE.NS: possibly delisted; no price data found  (period=1d)\n"
     ]
    },
    {
     "name": "stdout",
     "output_type": "stream",
     "text": [
      "\n",
      "SBILIFE.NS Data:\n",
      "Empty DataFrame\n",
      "Columns: [Open, High, Low, Close, Adj Close, Volume]\n",
      "Index: []\n"
     ]
    },
    {
     "name": "stderr",
     "output_type": "stream",
     "text": [
      "Failed to get ticker 'HDFCLIFE.NS' reason: Expecting value: line 1 column 1 (char 0)\n",
      "$HDFCLIFE.NS: possibly delisted; no price data found  (period=1d)\n"
     ]
    },
    {
     "name": "stdout",
     "output_type": "stream",
     "text": [
      "\n",
      "HDFCLIFE.NS Data:\n",
      "Empty DataFrame\n",
      "Columns: [Open, High, Low, Close, Adj Close, Volume]\n",
      "Index: []\n"
     ]
    },
    {
     "name": "stderr",
     "output_type": "stream",
     "text": [
      "Failed to get ticker 'TATAMOTORS.NS' reason: Expecting value: line 1 column 1 (char 0)\n",
      "$TATAMOTORS.NS: possibly delisted; no price data found  (period=1d)\n"
     ]
    },
    {
     "name": "stdout",
     "output_type": "stream",
     "text": [
      "\n",
      "TATAMOTORS.NS Data:\n",
      "Empty DataFrame\n",
      "Columns: [Open, High, Low, Close, Adj Close, Volume]\n",
      "Index: []\n"
     ]
    },
    {
     "name": "stderr",
     "output_type": "stream",
     "text": [
      "Failed to get ticker 'VEDL.NS' reason: Expecting value: line 1 column 1 (char 0)\n",
      "$VEDL.NS: possibly delisted; no price data found  (period=1d)\n"
     ]
    },
    {
     "name": "stdout",
     "output_type": "stream",
     "text": [
      "\n",
      "VEDL.NS Data:\n",
      "Empty DataFrame\n",
      "Columns: [Open, High, Low, Close, Adj Close, Volume]\n",
      "Index: []\n"
     ]
    }
   ],
   "source": [
    "import yfinance as yf\n",
    "\n",
    "# List of Nifty 50 company tickers (as per Yahoo Finance)\n",
    "nifty50_tickers = [\n",
    "    'RELIANCE.NS', 'TCS.NS', 'HDFCBANK.NS', 'ICICIBANK.NS', 'INFY.NS', 'HINDUNILVR.NS', \n",
    "    'ITC.NS', 'KOTAKBANK.NS', 'HDFC.NS', 'SBIN.NS', 'BHARTIARTL.NS', 'LT.NS', 'BAJFINANCE.NS', \n",
    "    'ASIANPAINT.NS', 'HCLTECH.NS', 'MARUTI.NS', 'TITAN.NS', 'AXISBANK.NS', 'SUNPHARMA.NS', \n",
    "    'NTPC.NS', 'ONGC.NS', 'NESTLEIND.NS', 'ULTRACEMCO.NS', 'WIPRO.NS', 'ADANIPORTS.NS', \n",
    "    'POWERGRID.NS', 'M&M.NS', 'BAJAJ-AUTO.NS', 'GRASIM.NS', 'TECHM.NS', 'JSWSTEEL.NS', \n",
    "    'TATASTEEL.NS', 'DRREDDY.NS', 'BRITANNIA.NS', 'EICHERMOT.NS', 'SHREECEM.NS', \n",
    "    'INDUSINDBK.NS', 'DIVISLAB.NS', 'COALINDIA.NS', 'UPL.NS', 'BPCL.NS', 'IOC.NS', \n",
    "    'CIPLA.NS', 'HEROMOTOCO.NS', 'GAIL.NS', 'SBILIFE.NS', 'HDFCLIFE.NS', 'TATAMOTORS.NS', \n",
    "    'VEDL.NS'\n",
    "]\n",
    "\n",
    "# Fetch Nifty 50 index data\n",
    "nifty50_index = '^NSEI'\n",
    "nifty_data = yf.Ticker(nifty50_index).history(period='1d')\n",
    "\n",
    "# Print Nifty 50 data\n",
    "print(\"Nifty 50 Index Data:\")\n",
    "print(nifty_data.tail(1))  # Latest data\n",
    "\n",
    "# Fetch and print data for individual companies\n",
    "print(\"\\nIndividual Company Data:\")\n",
    "for ticker in nifty50_tickers:\n",
    "    stock = yf.Ticker(ticker)\n",
    "    stock_data = stock.history(period='1d')\n",
    "    print(f\"\\n{ticker} Data:\")\n",
    "    print(stock_data.tail(1))  # Latest data"
   ]
  },
  {
   "cell_type": "code",
   "execution_count": 2,
   "id": "f2a15267-14e3-45ee-ba94-09f33d4a8a35",
   "metadata": {},
   "outputs": [
    {
     "name": "stderr",
     "output_type": "stream",
     "text": [
      "Failed to get ticker '^NSEI' reason: Expecting value: line 1 column 1 (char 0)\n",
      "$^NSEI: possibly delisted; no price data found  (period=1d)\n",
      "Failed to get ticker 'RELIANCE.NS' reason: Expecting value: line 1 column 1 (char 0)\n"
     ]
    },
    {
     "name": "stdout",
     "output_type": "stream",
     "text": [
      "Nifty 50 Index Data:\n",
      "Empty DataFrame\n",
      "Columns: [Open, High, Low, Close, Adj Close, Volume]\n",
      "Index: []\n",
      "\n",
      "Individual Company Data:\n"
     ]
    },
    {
     "name": "stderr",
     "output_type": "stream",
     "text": [
      "$RELIANCE.NS: possibly delisted; no price data found  (period=1d)\n",
      "Failed to get ticker 'TCS.NS' reason: Expecting value: line 1 column 1 (char 0)\n"
     ]
    },
    {
     "name": "stdout",
     "output_type": "stream",
     "text": [
      "\n",
      "RELIANCE.NS Data:\n",
      "Empty DataFrame\n",
      "Columns: [Open, High, Low, Close, Adj Close, Volume]\n",
      "Index: []\n"
     ]
    },
    {
     "name": "stderr",
     "output_type": "stream",
     "text": [
      "$TCS.NS: possibly delisted; no price data found  (period=1d)\n",
      "Failed to get ticker 'HDFCBANK.NS' reason: Expecting value: line 1 column 1 (char 0)\n"
     ]
    },
    {
     "name": "stdout",
     "output_type": "stream",
     "text": [
      "\n",
      "TCS.NS Data:\n",
      "Empty DataFrame\n",
      "Columns: [Open, High, Low, Close, Adj Close, Volume]\n",
      "Index: []\n"
     ]
    },
    {
     "name": "stderr",
     "output_type": "stream",
     "text": [
      "$HDFCBANK.NS: possibly delisted; no price data found  (period=1d)\n",
      "Failed to get ticker 'ICICIBANK.NS' reason: Expecting value: line 1 column 1 (char 0)\n"
     ]
    },
    {
     "name": "stdout",
     "output_type": "stream",
     "text": [
      "\n",
      "HDFCBANK.NS Data:\n",
      "Empty DataFrame\n",
      "Columns: [Open, High, Low, Close, Adj Close, Volume]\n",
      "Index: []\n"
     ]
    },
    {
     "name": "stderr",
     "output_type": "stream",
     "text": [
      "$ICICIBANK.NS: possibly delisted; no price data found  (period=1d)\n",
      "Failed to get ticker 'INFY.NS' reason: Expecting value: line 1 column 1 (char 0)\n"
     ]
    },
    {
     "name": "stdout",
     "output_type": "stream",
     "text": [
      "\n",
      "ICICIBANK.NS Data:\n",
      "Empty DataFrame\n",
      "Columns: [Open, High, Low, Close, Adj Close, Volume]\n",
      "Index: []\n"
     ]
    },
    {
     "name": "stderr",
     "output_type": "stream",
     "text": [
      "$INFY.NS: possibly delisted; no price data found  (period=1d)\n",
      "Failed to get ticker 'HINDUNILVR.NS' reason: Expecting value: line 1 column 1 (char 0)\n"
     ]
    },
    {
     "name": "stdout",
     "output_type": "stream",
     "text": [
      "\n",
      "INFY.NS Data:\n",
      "Empty DataFrame\n",
      "Columns: [Open, High, Low, Close, Adj Close, Volume]\n",
      "Index: []\n"
     ]
    },
    {
     "name": "stderr",
     "output_type": "stream",
     "text": [
      "$HINDUNILVR.NS: possibly delisted; no price data found  (period=1d)\n",
      "Failed to get ticker 'ITC.NS' reason: Expecting value: line 1 column 1 (char 0)\n"
     ]
    },
    {
     "name": "stdout",
     "output_type": "stream",
     "text": [
      "\n",
      "HINDUNILVR.NS Data:\n",
      "Empty DataFrame\n",
      "Columns: [Open, High, Low, Close, Adj Close, Volume]\n",
      "Index: []\n"
     ]
    },
    {
     "name": "stderr",
     "output_type": "stream",
     "text": [
      "$ITC.NS: possibly delisted; no price data found  (period=1d)\n",
      "Failed to get ticker 'KOTAKBANK.NS' reason: Expecting value: line 1 column 1 (char 0)\n"
     ]
    },
    {
     "name": "stdout",
     "output_type": "stream",
     "text": [
      "\n",
      "ITC.NS Data:\n",
      "Empty DataFrame\n",
      "Columns: [Open, High, Low, Close, Adj Close, Volume]\n",
      "Index: []\n"
     ]
    },
    {
     "name": "stderr",
     "output_type": "stream",
     "text": [
      "$KOTAKBANK.NS: possibly delisted; no price data found  (period=1d)\n",
      "Failed to get ticker 'HDFC.NS' reason: Expecting value: line 1 column 1 (char 0)\n"
     ]
    },
    {
     "name": "stdout",
     "output_type": "stream",
     "text": [
      "\n",
      "KOTAKBANK.NS Data:\n",
      "Empty DataFrame\n",
      "Columns: [Open, High, Low, Close, Adj Close, Volume]\n",
      "Index: []\n"
     ]
    },
    {
     "name": "stderr",
     "output_type": "stream",
     "text": [
      "$HDFC.NS: possibly delisted; no price data found  (period=1d)\n",
      "Failed to get ticker 'SBIN.NS' reason: Expecting value: line 1 column 1 (char 0)\n"
     ]
    },
    {
     "name": "stdout",
     "output_type": "stream",
     "text": [
      "\n",
      "HDFC.NS Data:\n",
      "Empty DataFrame\n",
      "Columns: [Open, High, Low, Close, Adj Close, Volume]\n",
      "Index: []\n"
     ]
    },
    {
     "name": "stderr",
     "output_type": "stream",
     "text": [
      "$SBIN.NS: possibly delisted; no price data found  (period=1d)\n",
      "Failed to get ticker 'BHARTIARTL.NS' reason: Expecting value: line 1 column 1 (char 0)\n"
     ]
    },
    {
     "name": "stdout",
     "output_type": "stream",
     "text": [
      "\n",
      "SBIN.NS Data:\n",
      "Empty DataFrame\n",
      "Columns: [Open, High, Low, Close, Adj Close, Volume]\n",
      "Index: []\n"
     ]
    },
    {
     "name": "stderr",
     "output_type": "stream",
     "text": [
      "$BHARTIARTL.NS: possibly delisted; no price data found  (period=1d)\n",
      "Failed to get ticker 'LT.NS' reason: Expecting value: line 1 column 1 (char 0)\n"
     ]
    },
    {
     "name": "stdout",
     "output_type": "stream",
     "text": [
      "\n",
      "BHARTIARTL.NS Data:\n",
      "Empty DataFrame\n",
      "Columns: [Open, High, Low, Close, Adj Close, Volume]\n",
      "Index: []\n"
     ]
    },
    {
     "name": "stderr",
     "output_type": "stream",
     "text": [
      "$LT.NS: possibly delisted; no price data found  (period=1d)\n",
      "Failed to get ticker 'BAJFINANCE.NS' reason: Expecting value: line 1 column 1 (char 0)\n"
     ]
    },
    {
     "name": "stdout",
     "output_type": "stream",
     "text": [
      "\n",
      "LT.NS Data:\n",
      "Empty DataFrame\n",
      "Columns: [Open, High, Low, Close, Adj Close, Volume]\n",
      "Index: []\n"
     ]
    },
    {
     "name": "stderr",
     "output_type": "stream",
     "text": [
      "$BAJFINANCE.NS: possibly delisted; no price data found  (period=1d)\n",
      "Failed to get ticker 'ASIANPAINT.NS' reason: Expecting value: line 1 column 1 (char 0)\n"
     ]
    },
    {
     "name": "stdout",
     "output_type": "stream",
     "text": [
      "\n",
      "BAJFINANCE.NS Data:\n",
      "Empty DataFrame\n",
      "Columns: [Open, High, Low, Close, Adj Close, Volume]\n",
      "Index: []\n"
     ]
    },
    {
     "name": "stderr",
     "output_type": "stream",
     "text": [
      "$ASIANPAINT.NS: possibly delisted; no price data found  (period=1d)\n",
      "Failed to get ticker 'HCLTECH.NS' reason: Expecting value: line 1 column 1 (char 0)\n"
     ]
    },
    {
     "name": "stdout",
     "output_type": "stream",
     "text": [
      "\n",
      "ASIANPAINT.NS Data:\n",
      "Empty DataFrame\n",
      "Columns: [Open, High, Low, Close, Adj Close, Volume]\n",
      "Index: []\n"
     ]
    },
    {
     "name": "stderr",
     "output_type": "stream",
     "text": [
      "$HCLTECH.NS: possibly delisted; no price data found  (period=1d)\n",
      "Failed to get ticker 'MARUTI.NS' reason: Expecting value: line 1 column 1 (char 0)\n"
     ]
    },
    {
     "name": "stdout",
     "output_type": "stream",
     "text": [
      "\n",
      "HCLTECH.NS Data:\n",
      "Empty DataFrame\n",
      "Columns: [Open, High, Low, Close, Adj Close, Volume]\n",
      "Index: []\n"
     ]
    },
    {
     "name": "stderr",
     "output_type": "stream",
     "text": [
      "$MARUTI.NS: possibly delisted; no price data found  (period=1d)\n",
      "Failed to get ticker 'TITAN.NS' reason: Expecting value: line 1 column 1 (char 0)\n"
     ]
    },
    {
     "name": "stdout",
     "output_type": "stream",
     "text": [
      "\n",
      "MARUTI.NS Data:\n",
      "Empty DataFrame\n",
      "Columns: [Open, High, Low, Close, Adj Close, Volume]\n",
      "Index: []\n"
     ]
    },
    {
     "name": "stderr",
     "output_type": "stream",
     "text": [
      "$TITAN.NS: possibly delisted; no price data found  (period=1d)\n",
      "Failed to get ticker 'AXISBANK.NS' reason: Expecting value: line 1 column 1 (char 0)\n"
     ]
    },
    {
     "name": "stdout",
     "output_type": "stream",
     "text": [
      "\n",
      "TITAN.NS Data:\n",
      "Empty DataFrame\n",
      "Columns: [Open, High, Low, Close, Adj Close, Volume]\n",
      "Index: []\n"
     ]
    },
    {
     "name": "stderr",
     "output_type": "stream",
     "text": [
      "$AXISBANK.NS: possibly delisted; no price data found  (period=1d)\n",
      "Failed to get ticker 'SUNPHARMA.NS' reason: Expecting value: line 1 column 1 (char 0)\n"
     ]
    },
    {
     "name": "stdout",
     "output_type": "stream",
     "text": [
      "\n",
      "AXISBANK.NS Data:\n",
      "Empty DataFrame\n",
      "Columns: [Open, High, Low, Close, Adj Close, Volume]\n",
      "Index: []\n"
     ]
    },
    {
     "name": "stderr",
     "output_type": "stream",
     "text": [
      "$SUNPHARMA.NS: possibly delisted; no price data found  (period=1d)\n",
      "Failed to get ticker 'NTPC.NS' reason: Expecting value: line 1 column 1 (char 0)\n"
     ]
    },
    {
     "name": "stdout",
     "output_type": "stream",
     "text": [
      "\n",
      "SUNPHARMA.NS Data:\n",
      "Empty DataFrame\n",
      "Columns: [Open, High, Low, Close, Adj Close, Volume]\n",
      "Index: []\n"
     ]
    },
    {
     "name": "stderr",
     "output_type": "stream",
     "text": [
      "$NTPC.NS: possibly delisted; no price data found  (period=1d)\n",
      "Failed to get ticker 'ONGC.NS' reason: Expecting value: line 1 column 1 (char 0)\n"
     ]
    },
    {
     "name": "stdout",
     "output_type": "stream",
     "text": [
      "\n",
      "NTPC.NS Data:\n",
      "Empty DataFrame\n",
      "Columns: [Open, High, Low, Close, Adj Close, Volume]\n",
      "Index: []\n"
     ]
    },
    {
     "name": "stderr",
     "output_type": "stream",
     "text": [
      "$ONGC.NS: possibly delisted; no price data found  (period=1d)\n",
      "Failed to get ticker 'NESTLEIND.NS' reason: Expecting value: line 1 column 1 (char 0)\n"
     ]
    },
    {
     "name": "stdout",
     "output_type": "stream",
     "text": [
      "\n",
      "ONGC.NS Data:\n",
      "Empty DataFrame\n",
      "Columns: [Open, High, Low, Close, Adj Close, Volume]\n",
      "Index: []\n"
     ]
    },
    {
     "name": "stderr",
     "output_type": "stream",
     "text": [
      "$NESTLEIND.NS: possibly delisted; no price data found  (period=1d)\n",
      "Failed to get ticker 'ULTRACEMCO.NS' reason: Expecting value: line 1 column 1 (char 0)\n"
     ]
    },
    {
     "name": "stdout",
     "output_type": "stream",
     "text": [
      "\n",
      "NESTLEIND.NS Data:\n",
      "Empty DataFrame\n",
      "Columns: [Open, High, Low, Close, Adj Close, Volume]\n",
      "Index: []\n"
     ]
    },
    {
     "name": "stderr",
     "output_type": "stream",
     "text": [
      "$ULTRACEMCO.NS: possibly delisted; no price data found  (period=1d)\n",
      "Failed to get ticker 'WIPRO.NS' reason: Expecting value: line 1 column 1 (char 0)\n"
     ]
    },
    {
     "name": "stdout",
     "output_type": "stream",
     "text": [
      "\n",
      "ULTRACEMCO.NS Data:\n",
      "Empty DataFrame\n",
      "Columns: [Open, High, Low, Close, Adj Close, Volume]\n",
      "Index: []\n"
     ]
    },
    {
     "name": "stderr",
     "output_type": "stream",
     "text": [
      "$WIPRO.NS: possibly delisted; no price data found  (period=1d)\n",
      "Failed to get ticker 'ADANIPORTS.NS' reason: Expecting value: line 1 column 1 (char 0)\n"
     ]
    },
    {
     "name": "stdout",
     "output_type": "stream",
     "text": [
      "\n",
      "WIPRO.NS Data:\n",
      "Empty DataFrame\n",
      "Columns: [Open, High, Low, Close, Adj Close, Volume]\n",
      "Index: []\n"
     ]
    },
    {
     "name": "stderr",
     "output_type": "stream",
     "text": [
      "$ADANIPORTS.NS: possibly delisted; no price data found  (period=1d)\n",
      "Failed to get ticker 'POWERGRID.NS' reason: Expecting value: line 1 column 1 (char 0)\n"
     ]
    },
    {
     "name": "stdout",
     "output_type": "stream",
     "text": [
      "\n",
      "ADANIPORTS.NS Data:\n",
      "Empty DataFrame\n",
      "Columns: [Open, High, Low, Close, Adj Close, Volume]\n",
      "Index: []\n"
     ]
    },
    {
     "name": "stderr",
     "output_type": "stream",
     "text": [
      "$POWERGRID.NS: possibly delisted; no price data found  (period=1d)\n",
      "Failed to get ticker 'M&M.NS' reason: Expecting value: line 1 column 1 (char 0)\n"
     ]
    },
    {
     "name": "stdout",
     "output_type": "stream",
     "text": [
      "\n",
      "POWERGRID.NS Data:\n",
      "Empty DataFrame\n",
      "Columns: [Open, High, Low, Close, Adj Close, Volume]\n",
      "Index: []\n"
     ]
    },
    {
     "name": "stderr",
     "output_type": "stream",
     "text": [
      "$M&M.NS: possibly delisted; no price data found  (period=1d)\n",
      "Failed to get ticker 'BAJAJ-AUTO.NS' reason: Expecting value: line 1 column 1 (char 0)\n"
     ]
    },
    {
     "name": "stdout",
     "output_type": "stream",
     "text": [
      "\n",
      "M&M.NS Data:\n",
      "Empty DataFrame\n",
      "Columns: [Open, High, Low, Close, Adj Close, Volume]\n",
      "Index: []\n"
     ]
    },
    {
     "name": "stderr",
     "output_type": "stream",
     "text": [
      "$BAJAJ-AUTO.NS: possibly delisted; no price data found  (period=1d)\n",
      "Failed to get ticker 'GRASIM.NS' reason: Expecting value: line 1 column 1 (char 0)\n"
     ]
    },
    {
     "name": "stdout",
     "output_type": "stream",
     "text": [
      "\n",
      "BAJAJ-AUTO.NS Data:\n",
      "Empty DataFrame\n",
      "Columns: [Open, High, Low, Close, Adj Close, Volume]\n",
      "Index: []\n"
     ]
    },
    {
     "name": "stderr",
     "output_type": "stream",
     "text": [
      "$GRASIM.NS: possibly delisted; no price data found  (period=1d)\n",
      "Failed to get ticker 'TECHM.NS' reason: Expecting value: line 1 column 1 (char 0)\n"
     ]
    },
    {
     "name": "stdout",
     "output_type": "stream",
     "text": [
      "\n",
      "GRASIM.NS Data:\n",
      "Empty DataFrame\n",
      "Columns: [Open, High, Low, Close, Adj Close, Volume]\n",
      "Index: []\n"
     ]
    },
    {
     "name": "stderr",
     "output_type": "stream",
     "text": [
      "$TECHM.NS: possibly delisted; no price data found  (period=1d)\n",
      "Failed to get ticker 'JSWSTEEL.NS' reason: Expecting value: line 1 column 1 (char 0)\n"
     ]
    },
    {
     "name": "stdout",
     "output_type": "stream",
     "text": [
      "\n",
      "TECHM.NS Data:\n",
      "Empty DataFrame\n",
      "Columns: [Open, High, Low, Close, Adj Close, Volume]\n",
      "Index: []\n"
     ]
    },
    {
     "name": "stderr",
     "output_type": "stream",
     "text": [
      "$JSWSTEEL.NS: possibly delisted; no price data found  (period=1d)\n",
      "Failed to get ticker 'TATASTEEL.NS' reason: Expecting value: line 1 column 1 (char 0)\n"
     ]
    },
    {
     "name": "stdout",
     "output_type": "stream",
     "text": [
      "\n",
      "JSWSTEEL.NS Data:\n",
      "Empty DataFrame\n",
      "Columns: [Open, High, Low, Close, Adj Close, Volume]\n",
      "Index: []\n"
     ]
    },
    {
     "name": "stderr",
     "output_type": "stream",
     "text": [
      "$TATASTEEL.NS: possibly delisted; no price data found  (period=1d)\n",
      "Failed to get ticker 'DRREDDY.NS' reason: Expecting value: line 1 column 1 (char 0)\n"
     ]
    },
    {
     "name": "stdout",
     "output_type": "stream",
     "text": [
      "\n",
      "TATASTEEL.NS Data:\n",
      "Empty DataFrame\n",
      "Columns: [Open, High, Low, Close, Adj Close, Volume]\n",
      "Index: []\n"
     ]
    },
    {
     "name": "stderr",
     "output_type": "stream",
     "text": [
      "$DRREDDY.NS: possibly delisted; no price data found  (period=1d)\n",
      "Failed to get ticker 'BRITANNIA.NS' reason: Expecting value: line 1 column 1 (char 0)\n"
     ]
    },
    {
     "name": "stdout",
     "output_type": "stream",
     "text": [
      "\n",
      "DRREDDY.NS Data:\n",
      "Empty DataFrame\n",
      "Columns: [Open, High, Low, Close, Adj Close, Volume]\n",
      "Index: []\n"
     ]
    },
    {
     "name": "stderr",
     "output_type": "stream",
     "text": [
      "$BRITANNIA.NS: possibly delisted; no price data found  (period=1d)\n",
      "Failed to get ticker 'EICHERMOT.NS' reason: Expecting value: line 1 column 1 (char 0)\n"
     ]
    },
    {
     "name": "stdout",
     "output_type": "stream",
     "text": [
      "\n",
      "BRITANNIA.NS Data:\n",
      "Empty DataFrame\n",
      "Columns: [Open, High, Low, Close, Adj Close, Volume]\n",
      "Index: []\n"
     ]
    },
    {
     "name": "stderr",
     "output_type": "stream",
     "text": [
      "$EICHERMOT.NS: possibly delisted; no price data found  (period=1d)\n",
      "Failed to get ticker 'SHREECEM.NS' reason: Expecting value: line 1 column 1 (char 0)\n"
     ]
    },
    {
     "name": "stdout",
     "output_type": "stream",
     "text": [
      "\n",
      "EICHERMOT.NS Data:\n",
      "Empty DataFrame\n",
      "Columns: [Open, High, Low, Close, Adj Close, Volume]\n",
      "Index: []\n"
     ]
    },
    {
     "name": "stderr",
     "output_type": "stream",
     "text": [
      "$SHREECEM.NS: possibly delisted; no price data found  (period=1d)\n",
      "Failed to get ticker 'INDUSINDBK.NS' reason: Expecting value: line 1 column 1 (char 0)\n"
     ]
    },
    {
     "name": "stdout",
     "output_type": "stream",
     "text": [
      "\n",
      "SHREECEM.NS Data:\n",
      "Empty DataFrame\n",
      "Columns: [Open, High, Low, Close, Adj Close, Volume]\n",
      "Index: []\n"
     ]
    },
    {
     "name": "stderr",
     "output_type": "stream",
     "text": [
      "$INDUSINDBK.NS: possibly delisted; no price data found  (period=1d)\n",
      "Failed to get ticker 'DIVISLAB.NS' reason: Expecting value: line 1 column 1 (char 0)\n"
     ]
    },
    {
     "name": "stdout",
     "output_type": "stream",
     "text": [
      "\n",
      "INDUSINDBK.NS Data:\n",
      "Empty DataFrame\n",
      "Columns: [Open, High, Low, Close, Adj Close, Volume]\n",
      "Index: []\n"
     ]
    },
    {
     "name": "stderr",
     "output_type": "stream",
     "text": [
      "$DIVISLAB.NS: possibly delisted; no price data found  (period=1d)\n",
      "Failed to get ticker 'COALINDIA.NS' reason: Expecting value: line 1 column 1 (char 0)\n"
     ]
    },
    {
     "name": "stdout",
     "output_type": "stream",
     "text": [
      "\n",
      "DIVISLAB.NS Data:\n",
      "Empty DataFrame\n",
      "Columns: [Open, High, Low, Close, Adj Close, Volume]\n",
      "Index: []\n"
     ]
    },
    {
     "name": "stderr",
     "output_type": "stream",
     "text": [
      "$COALINDIA.NS: possibly delisted; no price data found  (period=1d)\n",
      "Failed to get ticker 'UPL.NS' reason: Expecting value: line 1 column 1 (char 0)\n"
     ]
    },
    {
     "name": "stdout",
     "output_type": "stream",
     "text": [
      "\n",
      "COALINDIA.NS Data:\n",
      "Empty DataFrame\n",
      "Columns: [Open, High, Low, Close, Adj Close, Volume]\n",
      "Index: []\n"
     ]
    },
    {
     "name": "stderr",
     "output_type": "stream",
     "text": [
      "$UPL.NS: possibly delisted; no price data found  (period=1d)\n",
      "Failed to get ticker 'BPCL.NS' reason: Expecting value: line 1 column 1 (char 0)\n"
     ]
    },
    {
     "name": "stdout",
     "output_type": "stream",
     "text": [
      "\n",
      "UPL.NS Data:\n",
      "Empty DataFrame\n",
      "Columns: [Open, High, Low, Close, Adj Close, Volume]\n",
      "Index: []\n"
     ]
    },
    {
     "name": "stderr",
     "output_type": "stream",
     "text": [
      "$BPCL.NS: possibly delisted; no price data found  (period=1d)\n",
      "Failed to get ticker 'IOC.NS' reason: Expecting value: line 1 column 1 (char 0)\n"
     ]
    },
    {
     "name": "stdout",
     "output_type": "stream",
     "text": [
      "\n",
      "BPCL.NS Data:\n",
      "Empty DataFrame\n",
      "Columns: [Open, High, Low, Close, Adj Close, Volume]\n",
      "Index: []\n"
     ]
    },
    {
     "name": "stderr",
     "output_type": "stream",
     "text": [
      "$IOC.NS: possibly delisted; no price data found  (period=1d)\n",
      "Failed to get ticker 'CIPLA.NS' reason: Expecting value: line 1 column 1 (char 0)\n"
     ]
    },
    {
     "name": "stdout",
     "output_type": "stream",
     "text": [
      "\n",
      "IOC.NS Data:\n",
      "Empty DataFrame\n",
      "Columns: [Open, High, Low, Close, Adj Close, Volume]\n",
      "Index: []\n"
     ]
    },
    {
     "name": "stderr",
     "output_type": "stream",
     "text": [
      "$CIPLA.NS: possibly delisted; no price data found  (period=1d)\n",
      "Failed to get ticker 'HEROMOTOCO.NS' reason: Expecting value: line 1 column 1 (char 0)\n"
     ]
    },
    {
     "name": "stdout",
     "output_type": "stream",
     "text": [
      "\n",
      "CIPLA.NS Data:\n",
      "Empty DataFrame\n",
      "Columns: [Open, High, Low, Close, Adj Close, Volume]\n",
      "Index: []\n"
     ]
    },
    {
     "name": "stderr",
     "output_type": "stream",
     "text": [
      "$HEROMOTOCO.NS: possibly delisted; no price data found  (period=1d)\n",
      "Failed to get ticker 'GAIL.NS' reason: Expecting value: line 1 column 1 (char 0)\n"
     ]
    },
    {
     "name": "stdout",
     "output_type": "stream",
     "text": [
      "\n",
      "HEROMOTOCO.NS Data:\n",
      "Empty DataFrame\n",
      "Columns: [Open, High, Low, Close, Adj Close, Volume]\n",
      "Index: []\n"
     ]
    },
    {
     "name": "stderr",
     "output_type": "stream",
     "text": [
      "$GAIL.NS: possibly delisted; no price data found  (period=1d)\n",
      "Failed to get ticker 'SBILIFE.NS' reason: Expecting value: line 1 column 1 (char 0)\n"
     ]
    },
    {
     "name": "stdout",
     "output_type": "stream",
     "text": [
      "\n",
      "GAIL.NS Data:\n",
      "Empty DataFrame\n",
      "Columns: [Open, High, Low, Close, Adj Close, Volume]\n",
      "Index: []\n"
     ]
    },
    {
     "name": "stderr",
     "output_type": "stream",
     "text": [
      "$SBILIFE.NS: possibly delisted; no price data found  (period=1d)\n",
      "Failed to get ticker 'HDFCLIFE.NS' reason: Expecting value: line 1 column 1 (char 0)\n"
     ]
    },
    {
     "name": "stdout",
     "output_type": "stream",
     "text": [
      "\n",
      "SBILIFE.NS Data:\n",
      "Empty DataFrame\n",
      "Columns: [Open, High, Low, Close, Adj Close, Volume]\n",
      "Index: []\n"
     ]
    },
    {
     "name": "stderr",
     "output_type": "stream",
     "text": [
      "$HDFCLIFE.NS: possibly delisted; no price data found  (period=1d)\n",
      "Failed to get ticker 'TATAMOTORS.NS' reason: Expecting value: line 1 column 1 (char 0)\n"
     ]
    },
    {
     "name": "stdout",
     "output_type": "stream",
     "text": [
      "\n",
      "HDFCLIFE.NS Data:\n",
      "Empty DataFrame\n",
      "Columns: [Open, High, Low, Close, Adj Close, Volume]\n",
      "Index: []\n"
     ]
    },
    {
     "name": "stderr",
     "output_type": "stream",
     "text": [
      "$TATAMOTORS.NS: possibly delisted; no price data found  (period=1d)\n",
      "Failed to get ticker 'VEDL.NS' reason: Expecting value: line 1 column 1 (char 0)\n"
     ]
    },
    {
     "name": "stdout",
     "output_type": "stream",
     "text": [
      "\n",
      "TATAMOTORS.NS Data:\n",
      "Empty DataFrame\n",
      "Columns: [Open, High, Low, Close, Adj Close, Volume]\n",
      "Index: []\n"
     ]
    },
    {
     "name": "stderr",
     "output_type": "stream",
     "text": [
      "$VEDL.NS: possibly delisted; no price data found  (period=1d)\n"
     ]
    },
    {
     "name": "stdout",
     "output_type": "stream",
     "text": [
      "\n",
      "VEDL.NS Data:\n",
      "Empty DataFrame\n",
      "Columns: [Open, High, Low, Close, Adj Close, Volume]\n",
      "Index: []\n"
     ]
    }
   ],
   "source": [
    "import yfinance as yf\n",
    "\n",
    "# List of Nifty 50 company tickers (as per Yahoo Finance)\n",
    "nifty50_tickers = [\n",
    "    'RELIANCE.NS', 'TCS.NS', 'HDFCBANK.NS', 'ICICIBANK.NS', 'INFY.NS', 'HINDUNILVR.NS', \n",
    "    'ITC.NS', 'KOTAKBANK.NS', 'HDFC.NS', 'SBIN.NS', 'BHARTIARTL.NS', 'LT.NS', 'BAJFINANCE.NS', \n",
    "    'ASIANPAINT.NS', 'HCLTECH.NS', 'MARUTI.NS', 'TITAN.NS', 'AXISBANK.NS', 'SUNPHARMA.NS', \n",
    "    'NTPC.NS', 'ONGC.NS', 'NESTLEIND.NS', 'ULTRACEMCO.NS', 'WIPRO.NS', 'ADANIPORTS.NS', \n",
    "    'POWERGRID.NS', 'M&M.NS', 'BAJAJ-AUTO.NS', 'GRASIM.NS', 'TECHM.NS', 'JSWSTEEL.NS', \n",
    "    'TATASTEEL.NS', 'DRREDDY.NS', 'BRITANNIA.NS', 'EICHERMOT.NS', 'SHREECEM.NS', \n",
    "    'INDUSINDBK.NS', 'DIVISLAB.NS', 'COALINDIA.NS', 'UPL.NS', 'BPCL.NS', 'IOC.NS', \n",
    "    'CIPLA.NS', 'HEROMOTOCO.NS', 'GAIL.NS', 'SBILIFE.NS', 'HDFCLIFE.NS', 'TATAMOTORS.NS', \n",
    "    'VEDL.NS'\n",
    "]\n",
    "\n",
    "# Fetch Nifty 50 index data\n",
    "nifty50_index = '^NSEI'\n",
    "try:\n",
    "    nifty_data = yf.Ticker(nifty50_index).history(period='1d')\n",
    "    print(\"Nifty 50 Index Data:\")\n",
    "    print(nifty_data.tail(1))  # Latest data\n",
    "except Exception as e:\n",
    "    print(f\"Failed to get ticker '{nifty50_index}': {e}\")\n",
    "\n",
    "# Fetch and print data for individual companies\n",
    "print(\"\\nIndividual Company Data:\")\n",
    "for ticker in nifty50_tickers:\n",
    "    try:\n",
    "        stock = yf.Ticker(ticker)\n",
    "        stock_data = stock.history(period='1d')\n",
    "        print(f\"\\n{ticker} Data:\")\n",
    "        print(stock_data.tail(1))  # Latest data\n",
    "    except Exception as e:\n",
    "        print(f\"Failed to get ticker '{ticker}': {e}\")"
   ]
  },
  {
   "cell_type": "code",
   "execution_count": null,
   "id": "40cf37a1-dc42-4a25-a99a-770b34c20f02",
   "metadata": {},
   "outputs": [],
   "source": [
    "import requests\n",
    "import pandas as pd\n",
    "\n",
    "# Alpha Vantage API URL and Parameters\n",
    "api_key = 'YOUR_API_KEY'  # Sign up at https://www.alphavantage.co/\n",
    "symbol = 'NIFTY50'\n",
    "url = f\"https://www.alphavantage.co/query?function=TIME_SERIES_DAILY_ADJUSTED&symbol={symbol}&apikey={api_key}&datatype=csv\"\n",
    "\n",
    "try:\n",
    "    print(\"Fetching Nifty 50 Index Data from Alpha Vantage...\")\n",
    "    response = requests.get(url)\n",
    "    response.raise_for_status()  # Raise HTTP errors if any\n",
    "    \n",
    "    # Load data into pandas DataFrame\n",
    "    with open('nifty50_alpha.csv', 'w') as f:\n",
    "        f.write(response.text)\n",
    "    print(\"Data saved as 'nifty50_alpha.csv' for further analysis.\")\n",
    "    data = pd.read_csv('nifty50_alpha.csv')\n",
    "    print(data.head())\n",
    "except Exception as e:\n",
    "    print(f\"Failed to fetch Nifty 50 data from Alpha Vantage: {e}\")\n"
   ]
  },
  {
   "cell_type": "code",
   "execution_count": null,
   "id": "21aa4a14-4d6a-4067-bb0e-c1020ab5a5b5",
   "metadata": {},
   "outputs": [],
   "source": []
  },
  {
   "cell_type": "code",
   "execution_count": null,
   "id": "da364922-75c7-4977-be0c-80b86c265c71",
   "metadata": {},
   "outputs": [],
   "source": []
  }
 ],
 "metadata": {
  "kernelspec": {
   "display_name": "Python 3 (ipykernel)",
   "language": "python",
   "name": "python3"
  },
  "language_info": {
   "codemirror_mode": {
    "name": "ipython",
    "version": 3
   },
   "file_extension": ".py",
   "mimetype": "text/x-python",
   "name": "python",
   "nbconvert_exporter": "python",
   "pygments_lexer": "ipython3",
   "version": "3.11.8"
  }
 },
 "nbformat": 4,
 "nbformat_minor": 5
}
