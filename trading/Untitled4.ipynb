{
 "cells": [
  {
   "cell_type": "code",
   "execution_count": 1,
   "id": "88349892-d3e8-48c5-a056-4a36d684f299",
   "metadata": {},
   "outputs": [
    {
     "name": "stdout",
     "output_type": "stream",
     "text": [
      "YF.download() has changed argument auto_adjust default to True\n"
     ]
    },
    {
     "name": "stderr",
     "output_type": "stream",
     "text": [
      "[*********************100%***********************]  1 of 1 completed"
     ]
    },
    {
     "name": "stdout",
     "output_type": "stream",
     "text": [
      "Price             Close         High          Low         Open Volume\n",
      "Ticker            ^NSEI        ^NSEI        ^NSEI        ^NSEI  ^NSEI\n",
      "Date                                                                 \n",
      "2007-09-17  4494.649902  4549.049805  4482.850098  4518.450195      0\n",
      "2007-09-18  4546.200195  4551.799805  4481.549805  4494.100098      0\n",
      "2007-09-19  4732.350098  4739.000000  4550.250000  4550.250000      0\n",
      "2007-09-20  4747.549805  4760.850098  4721.149902  4734.850098      0\n",
      "2007-09-21  4837.549805  4855.700195  4733.700195  4752.950195      0\n"
     ]
    },
    {
     "name": "stderr",
     "output_type": "stream",
     "text": [
      "\n"
     ]
    }
   ],
   "source": [
    "import yfinance as yf\n",
    "import pandas as pd\n",
    "\n",
    "# Fetch historical data for Nifty 50\n",
    "nifty50 = yf.download('^NSEI', start='1973-01-01', end='2025-03-24')\n",
    "print(nifty50.head())\n",
    "\n",
    "# Save to CSV if needed\n",
    "nifty50.to_csv('nifty50_historical_data.csv')\n"
   ]
  },
  {
   "cell_type": "code",
   "execution_count": 2,
   "id": "1448735e-6d83-4530-aee1-833d7ad4f542",
   "metadata": {},
   "outputs": [
    {
     "data": {
      "text/plain": [
       "(4294, 5)"
      ]
     },
     "execution_count": 2,
     "metadata": {},
     "output_type": "execute_result"
    }
   ],
   "source": [
    "nifty50.shape"
   ]
  },
  {
   "cell_type": "code",
   "execution_count": null,
   "id": "c71e7959-cd36-492b-985e-7716dffd9baa",
   "metadata": {},
   "outputs": [],
   "source": []
  }
 ],
 "metadata": {
  "kernelspec": {
   "display_name": "Python 3 (ipykernel)",
   "language": "python",
   "name": "python3"
  },
  "language_info": {
   "codemirror_mode": {
    "name": "ipython",
    "version": 3
   },
   "file_extension": ".py",
   "mimetype": "text/x-python",
   "name": "python",
   "nbconvert_exporter": "python",
   "pygments_lexer": "ipython3",
   "version": "3.11.8"
  }
 },
 "nbformat": 4,
 "nbformat_minor": 5
}
